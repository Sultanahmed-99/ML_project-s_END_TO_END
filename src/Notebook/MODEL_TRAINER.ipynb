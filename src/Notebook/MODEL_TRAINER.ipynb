{
 "cells": [
  {
   "cell_type": "code",
   "execution_count": 96,
   "metadata": {},
   "outputs": [],
   "source": [
    "import numpy as np \n",
    "import pandas as pd \n",
    "import matplotlib.pyplot as plt \n",
    "import seaborn as sns \n",
    "%matplotlib inline \n",
    "\n",
    "import warnings \n",
    "warnings.filterwarnings('ignore')\n",
    "\n",
    "\n",
    "from sklearn.metrics import mean_squared_error , r2_score , mean_absolute_error\n",
    "from sklearn.neighbors import KNeighborsRegressor\n",
    "from sklearn.tree import DecisionTreeRegressor\n",
    "from sklearn.ensemble import RandomForestRegressor , AdaBoostRegressor\n",
    "from sklearn.svm import SVR\n",
    "from sklearn.linear_model import LinearRegression ,Lasso ,Ridge\n",
    "from sklearn.model_selection import RandomizedSearchCV\n",
    " \n",
    "from catboost import CatBoostRegressor\n",
    "from xgboost import XGBRegressor\n"
   ]
  },
  {
   "attachments": {},
   "cell_type": "markdown",
   "metadata": {},
   "source": [
    "> ### Import Data using Csv into a pandas DataFrame"
   ]
  },
  {
   "cell_type": "code",
   "execution_count": 97,
   "metadata": {},
   "outputs": [],
   "source": [
    "df = pd.read_csv('/Users/sly/Desktop/ML_projects/src/Notebook/data/StudentsPerformance.csv')"
   ]
  },
  {
   "cell_type": "code",
   "execution_count": 98,
   "metadata": {},
   "outputs": [
    {
     "data": {
      "text/html": [
       "<div>\n",
       "<style scoped>\n",
       "    .dataframe tbody tr th:only-of-type {\n",
       "        vertical-align: middle;\n",
       "    }\n",
       "\n",
       "    .dataframe tbody tr th {\n",
       "        vertical-align: top;\n",
       "    }\n",
       "\n",
       "    .dataframe thead th {\n",
       "        text-align: right;\n",
       "    }\n",
       "</style>\n",
       "<table border=\"1\" class=\"dataframe\">\n",
       "  <thead>\n",
       "    <tr style=\"text-align: right;\">\n",
       "      <th></th>\n",
       "      <th>gender</th>\n",
       "      <th>race/ethnicity</th>\n",
       "      <th>parental level of education</th>\n",
       "      <th>lunch</th>\n",
       "      <th>test preparation course</th>\n",
       "      <th>math score</th>\n",
       "      <th>reading score</th>\n",
       "      <th>writing score</th>\n",
       "    </tr>\n",
       "  </thead>\n",
       "  <tbody>\n",
       "    <tr>\n",
       "      <th>947</th>\n",
       "      <td>female</td>\n",
       "      <td>group D</td>\n",
       "      <td>some college</td>\n",
       "      <td>free/reduced</td>\n",
       "      <td>none</td>\n",
       "      <td>49</td>\n",
       "      <td>58</td>\n",
       "      <td>60</td>\n",
       "    </tr>\n",
       "    <tr>\n",
       "      <th>687</th>\n",
       "      <td>male</td>\n",
       "      <td>group D</td>\n",
       "      <td>associate's degree</td>\n",
       "      <td>free/reduced</td>\n",
       "      <td>none</td>\n",
       "      <td>77</td>\n",
       "      <td>78</td>\n",
       "      <td>73</td>\n",
       "    </tr>\n",
       "    <tr>\n",
       "      <th>892</th>\n",
       "      <td>female</td>\n",
       "      <td>group A</td>\n",
       "      <td>master's degree</td>\n",
       "      <td>free/reduced</td>\n",
       "      <td>none</td>\n",
       "      <td>50</td>\n",
       "      <td>67</td>\n",
       "      <td>73</td>\n",
       "    </tr>\n",
       "    <tr>\n",
       "      <th>58</th>\n",
       "      <td>male</td>\n",
       "      <td>group D</td>\n",
       "      <td>some college</td>\n",
       "      <td>standard</td>\n",
       "      <td>completed</td>\n",
       "      <td>58</td>\n",
       "      <td>59</td>\n",
       "      <td>58</td>\n",
       "    </tr>\n",
       "    <tr>\n",
       "      <th>850</th>\n",
       "      <td>male</td>\n",
       "      <td>group C</td>\n",
       "      <td>master's degree</td>\n",
       "      <td>standard</td>\n",
       "      <td>none</td>\n",
       "      <td>71</td>\n",
       "      <td>67</td>\n",
       "      <td>67</td>\n",
       "    </tr>\n",
       "    <tr>\n",
       "      <th>995</th>\n",
       "      <td>female</td>\n",
       "      <td>group E</td>\n",
       "      <td>master's degree</td>\n",
       "      <td>standard</td>\n",
       "      <td>completed</td>\n",
       "      <td>88</td>\n",
       "      <td>99</td>\n",
       "      <td>95</td>\n",
       "    </tr>\n",
       "    <tr>\n",
       "      <th>852</th>\n",
       "      <td>female</td>\n",
       "      <td>group E</td>\n",
       "      <td>some college</td>\n",
       "      <td>standard</td>\n",
       "      <td>none</td>\n",
       "      <td>87</td>\n",
       "      <td>85</td>\n",
       "      <td>93</td>\n",
       "    </tr>\n",
       "    <tr>\n",
       "      <th>797</th>\n",
       "      <td>female</td>\n",
       "      <td>group E</td>\n",
       "      <td>associate's degree</td>\n",
       "      <td>free/reduced</td>\n",
       "      <td>none</td>\n",
       "      <td>70</td>\n",
       "      <td>84</td>\n",
       "      <td>81</td>\n",
       "    </tr>\n",
       "    <tr>\n",
       "      <th>437</th>\n",
       "      <td>male</td>\n",
       "      <td>group D</td>\n",
       "      <td>associate's degree</td>\n",
       "      <td>free/reduced</td>\n",
       "      <td>none</td>\n",
       "      <td>75</td>\n",
       "      <td>66</td>\n",
       "      <td>73</td>\n",
       "    </tr>\n",
       "    <tr>\n",
       "      <th>884</th>\n",
       "      <td>female</td>\n",
       "      <td>group E</td>\n",
       "      <td>associate's degree</td>\n",
       "      <td>standard</td>\n",
       "      <td>none</td>\n",
       "      <td>51</td>\n",
       "      <td>51</td>\n",
       "      <td>54</td>\n",
       "    </tr>\n",
       "  </tbody>\n",
       "</table>\n",
       "</div>"
      ],
      "text/plain": [
       "     gender race/ethnicity  ... reading score writing score\n",
       "947  female        group D  ...            58            60\n",
       "687    male        group D  ...            78            73\n",
       "892  female        group A  ...            67            73\n",
       "58     male        group D  ...            59            58\n",
       "850    male        group C  ...            67            67\n",
       "995  female        group E  ...            99            95\n",
       "852  female        group E  ...            85            93\n",
       "797  female        group E  ...            84            81\n",
       "437    male        group D  ...            66            73\n",
       "884  female        group E  ...            51            54\n",
       "\n",
       "[10 rows x 8 columns]"
      ]
     },
     "execution_count": 98,
     "metadata": {},
     "output_type": "execute_result"
    }
   ],
   "source": [
    "df.sample(10)"
   ]
  },
  {
   "attachments": {},
   "cell_type": "markdown",
   "metadata": {},
   "source": [
    "> ### Preparing X and Y Variables "
   ]
  },
  {
   "cell_type": "code",
   "execution_count": 99,
   "metadata": {},
   "outputs": [],
   "source": [
    "# renaming columns name with space into _ \n",
    "df = (df.copy()\n",
    " .rename(columns = lambda col_name : col_name.replace(' ' , '_'))\n",
    ")\n"
   ]
  },
  {
   "cell_type": "code",
   "execution_count": 100,
   "metadata": {},
   "outputs": [],
   "source": [
    "# x features \n",
    "x = df.copy()\n",
    "# y target feature math_score \n",
    "y = x.pop('math_score')"
   ]
  },
  {
   "cell_type": "code",
   "execution_count": 101,
   "metadata": {},
   "outputs": [],
   "source": [
    "# Creating columns Transfomer with 3 types of transformers \n",
    "numerical_features = x.select_dtypes(np.number).columns\n",
    "categorical_feature = x.select_dtypes('object').columns\n",
    "\n",
    "from sklearn.preprocessing import OneHotEncoder , StandardScaler\n",
    "from sklearn.compose import ColumnTransformer\n",
    "from sklearn.pipeline import Pipeline\n",
    "\n",
    "\n",
    "numeric_transform = StandardScaler()\n",
    "onehot_tranform = OneHotEncoder()\n",
    "\n",
    "preprocesser = ColumnTransformer(\n",
    "    [\n",
    "        # categorical onehot encoding \n",
    "        ('OneHotEnoder' , onehot_tranform , categorical_feature) , \n",
    "        ('StanderScaler' , numeric_transform , numerical_features),\n",
    "\n",
    "    ]\n",
    ")"
   ]
  },
  {
   "cell_type": "code",
   "execution_count": 102,
   "metadata": {},
   "outputs": [
    {
     "data": {
      "text/plain": [
       "Index(['gender', 'race/ethnicity', 'parental_level_of_education', 'lunch',\n",
       "       'test_preparation_course'],\n",
       "      dtype='object')"
      ]
     },
     "execution_count": 102,
     "metadata": {},
     "output_type": "execute_result"
    }
   ],
   "source": [
    "categorical_feature"
   ]
  },
  {
   "cell_type": "code",
   "execution_count": 103,
   "metadata": {},
   "outputs": [],
   "source": [
    "x_trans = preprocesser.fit_transform(x)"
   ]
  },
  {
   "cell_type": "code",
   "execution_count": 104,
   "metadata": {},
   "outputs": [],
   "source": [
    "# spreating the data into train and test sets\n",
    "from sklearn.model_selection import train_test_split\n",
    "x_train , x_test , y_train , y_test = train_test_split(x_trans , y ,test_size=0.2 , random_state=42)"
   ]
  },
  {
   "attachments": {},
   "cell_type": "markdown",
   "metadata": {},
   "source": [
    "## Create an Evaluate Function to give all metrics after model training \n"
   ]
  },
  {
   "cell_type": "code",
   "execution_count": 105,
   "metadata": {},
   "outputs": [],
   "source": [
    "def evaluate_model(true , predicted):\n",
    "    mae = mean_absolute_error(true , predicted)\n",
    "    mse = mean_squared_error(true , predicted)\n",
    "    r2_score_ = r2_score(true ,predicted)\n",
    "\n",
    "\n",
    "    return mae , mse , r2_score_\n"
   ]
  },
  {
   "attachments": {},
   "cell_type": "markdown",
   "metadata": {},
   "source": [
    "## Prepering for model training "
   ]
  },
  {
   "cell_type": "code",
   "execution_count": 106,
   "metadata": {},
   "outputs": [
    {
     "name": "stdout",
     "output_type": "stream",
     "text": [
      "LinearRegression\n",
      " - Model performance for Training set\n",
      " - Root Mean Squared Error 28.3627\n",
      " - Mean Absolute Error 4.2695\n",
      " - r2_Score Error 0.8742\n",
      "--------------------------------------\n",
      " - Model performance for Testing set\n",
      " - Root Mean Squared Error 29.3889\n",
      " - Mean Absolute Error 4.2347\n",
      " - r2_Score Error 0.8792\n",
      "===================================\n",
      "\n",
      "\n",
      "Lasso\n",
      " - Model performance for Training set\n",
      " - Root Mean Squared Error 43.4784\n",
      " - Mean Absolute Error 5.2063\n",
      " - r2_Score Error 0.8071\n",
      "--------------------------------------\n",
      " - Model performance for Testing set\n",
      " - Root Mean Squared Error 42.5064\n",
      " - Mean Absolute Error 5.1579\n",
      " - r2_Score Error 0.8253\n",
      "===================================\n",
      "\n",
      "\n",
      "Ridge\n",
      " - Model performance for Training set\n",
      " - Root Mean Squared Error 28.3378\n",
      " - Mean Absolute Error 4.2650\n",
      " - r2_Score Error 0.8743\n",
      "--------------------------------------\n",
      " - Model performance for Testing set\n",
      " - Root Mean Squared Error 29.0563\n",
      " - Mean Absolute Error 4.2111\n",
      " - r2_Score Error 0.8806\n",
      "===================================\n",
      "\n",
      "\n",
      "RandomForestRegressor\n",
      " - Model performance for Training set\n",
      " - Root Mean Squared Error 5.2939\n",
      " - Mean Absolute Error 1.8339\n",
      " - r2_Score Error 0.9765\n",
      "--------------------------------------\n",
      " - Model performance for Testing set\n",
      " - Root Mean Squared Error 35.7747\n",
      " - Mean Absolute Error 4.6329\n",
      " - r2_Score Error 0.8530\n",
      "===================================\n",
      "\n",
      "\n",
      "AdaBoostRegressor\n",
      " - Model performance for Training set\n",
      " - Root Mean Squared Error 33.9944\n",
      " - Mean Absolute Error 4.7390\n",
      " - r2_Score Error 0.8492\n",
      "--------------------------------------\n",
      " - Model performance for Testing set\n",
      " - Root Mean Squared Error 37.7727\n",
      " - Mean Absolute Error 4.8071\n",
      " - r2_Score Error 0.8448\n",
      "===================================\n",
      "\n",
      "\n",
      "DecisionTreeRegressor\n",
      " - Model performance for Training set\n",
      " - Root Mean Squared Error 0.0781\n",
      " - Mean Absolute Error 0.0187\n",
      " - r2_Score Error 0.9997\n",
      "--------------------------------------\n",
      " - Model performance for Testing set\n",
      " - Root Mean Squared Error 60.0600\n",
      " - Mean Absolute Error 6.1100\n",
      " - r2_Score Error 0.7532\n",
      "===================================\n",
      "\n",
      "\n",
      "XGBRegressor\n",
      " - Model performance for Training set\n",
      " - Root Mean Squared Error 0.8258\n",
      " - Mean Absolute Error 0.6148\n",
      " - r2_Score Error 0.9963\n",
      "--------------------------------------\n",
      " - Model performance for Testing set\n",
      " - Root Mean Squared Error 43.4141\n",
      " - Mean Absolute Error 5.0844\n",
      " - r2_Score Error 0.8216\n",
      "===================================\n",
      "\n",
      "\n",
      "CatBoostRegressor\n",
      " - Model performance for Training set\n",
      " - Root Mean Squared Error 9.2578\n",
      " - Mean Absolute Error 2.4054\n",
      " - r2_Score Error 0.9589\n",
      "--------------------------------------\n",
      " - Model performance for Testing set\n",
      " - Root Mean Squared Error 36.1037\n",
      " - Mean Absolute Error 4.6125\n",
      " - r2_Score Error 0.8516\n",
      "===================================\n",
      "\n",
      "\n"
     ]
    }
   ],
   "source": [
    "models = {\n",
    "    \"LinearRegression\" : LinearRegression() , \n",
    "    \"Lasso\" : Lasso() , \n",
    "    \"Ridge\" : Ridge() , \n",
    "    'RandomForestRegressor' : RandomForestRegressor() , \n",
    "    'AdaBoostRegressor' : AdaBoostRegressor() , \n",
    "    'DecisionTreeRegressor' : DecisionTreeRegressor() , \n",
    "    'XGBRegressor' : XGBRegressor() , \n",
    "    'CatBoostRegressor' : CatBoostRegressor(verbose=False)\n",
    "}\n",
    "\n",
    "model_list = []\n",
    "r2_list = []\n",
    "\n",
    "for i in range(len(list(models))):\n",
    "    model = list(models.values())[i]\n",
    "    model.fit(x_train , y_train)\n",
    "\n",
    "\n",
    "    # Make predictions \n",
    "    y_train_pred = model.predict(x_train)\n",
    "    y_test_pred = model.predict(x_test)\n",
    "\n",
    "    # Evaluate Train and Test Datasets \n",
    "    model_train_mae  , model_train_mse  , model_train_r2score = evaluate_model(y_train , y_train_pred )\n",
    "    model_test_mae  , model_test_mse  , model_test_r2score  = evaluate_model(y_test , y_test_pred)\n",
    "\n",
    "\n",
    "    print(list(models.keys())[i])\n",
    "    model_list.append(list(models.keys())[i])\n",
    "\n",
    "    print(\" - Model performance for Training set\")\n",
    "    print(\" - Root Mean Squared Error {:.4f}\".format(model_train_mse))\n",
    "    print(\" - Mean Absolute Error {:.4f}\".format(model_train_mae))\n",
    "    print(\" - r2_Score Error {:.4f}\".format(model_train_r2score))\n",
    "    \n",
    "    print('--------------------------------------')\n",
    "    \n",
    "    print(\" - Model performance for Testing set\")\n",
    "    print(\" - Root Mean Squared Error {:.4f}\".format(model_test_mse))\n",
    "    print(\" - Mean Absolute Error {:.4f}\".format(model_test_mae))\n",
    "    print(\" - r2_Score Error {:.4f}\".format(model_test_r2score))\n",
    "\n",
    "    r2_list.append(model_test_r2score)\n",
    "\n",
    "\n",
    "    print('='*35)\n",
    "    print('\\n')\n",
    "\n"
   ]
  },
  {
   "attachments": {},
   "cell_type": "markdown",
   "metadata": {},
   "source": [
    "## Results "
   ]
  },
  {
   "cell_type": "code",
   "execution_count": 107,
   "metadata": {},
   "outputs": [
    {
     "data": {
      "text/html": [
       "<div>\n",
       "<style scoped>\n",
       "    .dataframe tbody tr th:only-of-type {\n",
       "        vertical-align: middle;\n",
       "    }\n",
       "\n",
       "    .dataframe tbody tr th {\n",
       "        vertical-align: top;\n",
       "    }\n",
       "\n",
       "    .dataframe thead th {\n",
       "        text-align: right;\n",
       "    }\n",
       "</style>\n",
       "<table border=\"1\" class=\"dataframe\">\n",
       "  <thead>\n",
       "    <tr style=\"text-align: right;\">\n",
       "      <th></th>\n",
       "      <th>Model_Name</th>\n",
       "      <th>R2_Score</th>\n",
       "    </tr>\n",
       "  </thead>\n",
       "  <tbody>\n",
       "    <tr>\n",
       "      <th>2</th>\n",
       "      <td>Ridge</td>\n",
       "      <td>0.880593</td>\n",
       "    </tr>\n",
       "    <tr>\n",
       "      <th>0</th>\n",
       "      <td>LinearRegression</td>\n",
       "      <td>0.879226</td>\n",
       "    </tr>\n",
       "    <tr>\n",
       "      <th>3</th>\n",
       "      <td>RandomForestRegressor</td>\n",
       "      <td>0.852984</td>\n",
       "    </tr>\n",
       "    <tr>\n",
       "      <th>7</th>\n",
       "      <td>CatBoostRegressor</td>\n",
       "      <td>0.851632</td>\n",
       "    </tr>\n",
       "    <tr>\n",
       "      <th>4</th>\n",
       "      <td>AdaBoostRegressor</td>\n",
       "      <td>0.844773</td>\n",
       "    </tr>\n",
       "    <tr>\n",
       "      <th>1</th>\n",
       "      <td>Lasso</td>\n",
       "      <td>0.825320</td>\n",
       "    </tr>\n",
       "    <tr>\n",
       "      <th>6</th>\n",
       "      <td>XGBRegressor</td>\n",
       "      <td>0.821589</td>\n",
       "    </tr>\n",
       "    <tr>\n",
       "      <th>5</th>\n",
       "      <td>DecisionTreeRegressor</td>\n",
       "      <td>0.753183</td>\n",
       "    </tr>\n",
       "  </tbody>\n",
       "</table>\n",
       "</div>"
      ],
      "text/plain": [
       "              Model_Name  R2_Score\n",
       "2                  Ridge  0.880593\n",
       "0       LinearRegression  0.879226\n",
       "3  RandomForestRegressor  0.852984\n",
       "7      CatBoostRegressor  0.851632\n",
       "4      AdaBoostRegressor  0.844773\n",
       "1                  Lasso  0.825320\n",
       "6           XGBRegressor  0.821589\n",
       "5  DecisionTreeRegressor  0.753183"
      ]
     },
     "execution_count": 107,
     "metadata": {},
     "output_type": "execute_result"
    }
   ],
   "source": [
    "models_results =pd.DataFrame(list(zip(model_list , r2_list)))\n",
    "models_results.columns = ['Model_Name' , 'R2_Score']\n",
    "models_results = models_results.sort_values(by='R2_Score' , ascending=False)\n",
    "models_results"
   ]
  },
  {
   "attachments": {},
   "cell_type": "markdown",
   "metadata": {},
   "source": [
    "### Linear Regression "
   ]
  },
  {
   "cell_type": "code",
   "execution_count": 108,
   "metadata": {},
   "outputs": [
    {
     "name": "stdout",
     "output_type": "stream",
     "text": [
      "Accuracy of the model is 87.92\n"
     ]
    }
   ],
   "source": [
    "lin_model = LinearRegression(fit_intercept=True)\n",
    "lin_model = lin_model.fit(x_train , y_train)\n",
    "y_pred = lin_model.predict(x_test)\n",
    "\n",
    "score = r2_score(y_test , y_pred ) *100\n",
    "print('Accuracy of the model is %.2f' %score)"
   ]
  },
  {
   "attachments": {},
   "cell_type": "markdown",
   "metadata": {},
   "source": [
    "## Plot y_pred and y_test "
   ]
  },
  {
   "cell_type": "code",
   "execution_count": 109,
   "metadata": {},
   "outputs": [
    {
     "data": {
      "text/plain": [
       "Text(0, 0.5, 'Predicted')"
      ]
     },
     "execution_count": 109,
     "metadata": {},
     "output_type": "execute_result"
    },
    {
     "data": {
      "image/png": "[encoded data removed]",
      "text/plain": [
       "<Figure size 640x480 with 1 Axes>"
      ]
     },
     "metadata": {},
     "output_type": "display_data"
    }
   ],
   "source": [
    "plt.scatter(y_test  ,y_pred)\n",
    "plt.xlabel('Acutal')\n",
    "plt.ylabel('Predicted')"
   ]
  },
  {
   "cell_type": "code",
   "execution_count": 110,
   "metadata": {},
   "outputs": [
    {
     "data": {
      "text/plain": [
       "<Axes: xlabel='math_score'>"
      ]
     },
     "execution_count": 110,
     "metadata": {},
     "output_type": "execute_result"
    },
    {
     "data": {
      "image/png": "[encoded data removed]",
      "text/plain": [
       "<Figure size 640x480 with 1 Axes>"
      ]
     },
     "metadata": {},
     "output_type": "display_data"
    }
   ],
   "source": [
    "sns.regplot(x = y_test , y = y_pred , ci = None , color='red')"
   ]
  },
  {
   "attachments": {},
   "cell_type": "markdown",
   "metadata": {},
   "source": [
    "## Difference between Actual and Predicted Values "
   ]
  },
  {
   "cell_type": "code",
   "execution_count": 111,
   "metadata": {},
   "outputs": [
    {
     "data": {
      "text/html": [
       "<div>\n",
       "<style scoped>\n",
       "    .dataframe tbody tr th:only-of-type {\n",
       "        vertical-align: middle;\n",
       "    }\n",
       "\n",
       "    .dataframe tbody tr th {\n",
       "        vertical-align: top;\n",
       "    }\n",
       "\n",
       "    .dataframe thead th {\n",
       "        text-align: right;\n",
       "    }\n",
       "</style>\n",
       "<table border=\"1\" class=\"dataframe\">\n",
       "  <thead>\n",
       "    <tr style=\"text-align: right;\">\n",
       "      <th></th>\n",
       "      <th>Actual values</th>\n",
       "      <th>Predicted Values</th>\n",
       "      <th>Differene</th>\n",
       "    </tr>\n",
       "  </thead>\n",
       "  <tbody>\n",
       "    <tr>\n",
       "      <th>521</th>\n",
       "      <td>91</td>\n",
       "      <td>76.546875</td>\n",
       "      <td>14.453125</td>\n",
       "    </tr>\n",
       "    <tr>\n",
       "      <th>737</th>\n",
       "      <td>53</td>\n",
       "      <td>58.839844</td>\n",
       "      <td>-5.839844</td>\n",
       "    </tr>\n",
       "    <tr>\n",
       "      <th>740</th>\n",
       "      <td>80</td>\n",
       "      <td>76.945312</td>\n",
       "      <td>3.054688</td>\n",
       "    </tr>\n",
       "    <tr>\n",
       "      <th>660</th>\n",
       "      <td>74</td>\n",
       "      <td>76.570312</td>\n",
       "      <td>-2.570312</td>\n",
       "    </tr>\n",
       "    <tr>\n",
       "      <th>411</th>\n",
       "      <td>84</td>\n",
       "      <td>87.535156</td>\n",
       "      <td>-3.535156</td>\n",
       "    </tr>\n",
       "    <tr>\n",
       "      <th>...</th>\n",
       "      <td>...</td>\n",
       "      <td>...</td>\n",
       "      <td>...</td>\n",
       "    </tr>\n",
       "    <tr>\n",
       "      <th>408</th>\n",
       "      <td>52</td>\n",
       "      <td>43.468750</td>\n",
       "      <td>8.531250</td>\n",
       "    </tr>\n",
       "    <tr>\n",
       "      <th>332</th>\n",
       "      <td>62</td>\n",
       "      <td>62.042969</td>\n",
       "      <td>-0.042969</td>\n",
       "    </tr>\n",
       "    <tr>\n",
       "      <th>208</th>\n",
       "      <td>74</td>\n",
       "      <td>67.843750</td>\n",
       "      <td>6.156250</td>\n",
       "    </tr>\n",
       "    <tr>\n",
       "      <th>613</th>\n",
       "      <td>65</td>\n",
       "      <td>67.167969</td>\n",
       "      <td>-2.167969</td>\n",
       "    </tr>\n",
       "    <tr>\n",
       "      <th>78</th>\n",
       "      <td>61</td>\n",
       "      <td>62.468750</td>\n",
       "      <td>-1.468750</td>\n",
       "    </tr>\n",
       "  </tbody>\n",
       "</table>\n",
       "<p>200 rows × 3 columns</p>\n",
       "</div>"
      ],
      "text/plain": [
       "     Actual values  Predicted Values  Differene\n",
       "521             91         76.546875  14.453125\n",
       "737             53         58.839844  -5.839844\n",
       "740             80         76.945312   3.054688\n",
       "660             74         76.570312  -2.570312\n",
       "411             84         87.535156  -3.535156\n",
       "..             ...               ...        ...\n",
       "408             52         43.468750   8.531250\n",
       "332             62         62.042969  -0.042969\n",
       "208             74         67.843750   6.156250\n",
       "613             65         67.167969  -2.167969\n",
       "78              61         62.468750  -1.468750\n",
       "\n",
       "[200 rows x 3 columns]"
      ]
     },
     "execution_count": 111,
     "metadata": {},
     "output_type": "execute_result"
    }
   ],
   "source": [
    "pred_df = pd.DataFrame({'Actual values' : y_test , 'Predicted Values':y_pred , 'Differene' : y_test - y_pred})\n",
    "pred_df"
   ]
  },
  {
   "cell_type": "code",
   "execution_count": null,
   "metadata": {},
   "outputs": [],
   "source": []
  }
 ],
 "metadata": {
  "kernelspec": {
   "display_name": "Python 3",
   "language": "python",
   "name": "python3"
  },
  "language_info": {
   "codemirror_mode": {
    "name": "ipython",
    "version": 3
   },
   "file_extension": ".py",
   "mimetype": "text/x-python",
   "name": "python",
   "nbconvert_exporter": "python",
   "pygments_lexer": "ipython3",
   "version": "3.8.16"
  },
  "orig_nbformat": 4
 },
 "nbformat": 4,
 "nbformat_minor": 2
}
